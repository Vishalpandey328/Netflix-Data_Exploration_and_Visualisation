{
 "cells": [
  {
   "cell_type": "code",
   "execution_count": 1,
   "id": "e0599c70",
   "metadata": {},
   "outputs": [],
   "source": [
    "#Import all the required Libraties\n",
    "import numpy as np\n",
    "import pandas as pd\n",
    "import datetime as dt\n",
    "import matplotlib.pyplot as plt\n",
    "import seaborn as sns"
   ]
  },
  {
   "cell_type": "markdown",
   "id": "0cdc995d",
   "metadata": {},
   "source": [
    "1. Defining Problem Statement and\n",
    "Analysing basic metrics.\n",
    "We will now analyse the data and generate insights that could help Netflix in deciding which\n",
    "type of shows/movies to produce and how they can grow the business in different countries\n",
    "and best week to release tv-shows and movie. and find the best month to release tv-show and\n",
    "movie.\n"
   ]
  },
  {
   "cell_type": "code",
   "execution_count": 3,
   "id": "f1a73e2e",
   "metadata": {},
   "outputs": [],
   "source": [
    "\n",
    "#Read CSV File\n",
    "df=pd.read_csv('Netflix.csv')"
   ]
  },
  {
   "cell_type": "markdown",
   "id": "fb574fd7",
   "metadata": {},
   "source": [
    "2. Observations on the shape of data, data\n",
    "types of all the attributes, conversion of\n",
    "categorical attributes to 'category' (If\n",
    "required), missing value detection, statistical\n",
    "summary."
   ]
  },
  {
   "cell_type": "code",
   "execution_count": 4,
   "id": "521edb72",
   "metadata": {},
   "outputs": [
    {
     "data": {
      "text/plain": [
       "(8807, 12)"
      ]
     },
     "execution_count": 4,
     "metadata": {},
     "output_type": "execute_result"
    }
   ],
   "source": [
    "#shape of data\n",
    "df.shape"
   ]
  },
  {
   "cell_type": "code",
   "execution_count": 5,
   "id": "03f433dd",
   "metadata": {},
   "outputs": [
    {
     "name": "stdout",
     "output_type": "stream",
     "text": [
      "<class 'pandas.core.frame.DataFrame'>\n",
      "RangeIndex: 8807 entries, 0 to 8806\n",
      "Data columns (total 12 columns):\n",
      " #   Column        Non-Null Count  Dtype \n",
      "---  ------        --------------  ----- \n",
      " 0   show_id       8807 non-null   object\n",
      " 1   type          8807 non-null   object\n",
      " 2   title         8807 non-null   object\n",
      " 3   director      6173 non-null   object\n",
      " 4   cast          7982 non-null   object\n",
      " 5   country       7976 non-null   object\n",
      " 6   date_added    8797 non-null   object\n",
      " 7   release_year  8807 non-null   int64 \n",
      " 8   rating        8803 non-null   object\n",
      " 9   duration      8804 non-null   object\n",
      " 10  listed_in     8807 non-null   object\n",
      " 11  description   8807 non-null   object\n",
      "dtypes: int64(1), object(11)\n",
      "memory usage: 825.8+ KB\n"
     ]
    }
   ],
   "source": [
    "# Data type of all the attributes.\n",
    "df.info()"
   ]
  },
  {
   "cell_type": "code",
   "execution_count": 18,
   "id": "fdfa9273",
   "metadata": {},
   "outputs": [
    {
     "name": "stdout",
     "output_type": "stream",
     "text": [
      "Missing value count in show_id :- 0\n",
      "Missing value count in type :- 0\n",
      "Missing value count in title :- 0\n",
      "Missing value count in director :- 2634\n",
      "Missing value count in cast :- 825\n",
      "Missing value count in country :- 831\n",
      "Missing value count in date_added :- 10\n",
      "Missing value count in release_year :- 0\n",
      "Missing value count in rating :- 4\n",
      "Missing value count in duration :- 3\n",
      "Missing value count in listed_in :- 0\n",
      "Missing value count in description :- 0\n"
     ]
    }
   ],
   "source": [
    "#Missing Value Count\n",
    "for col in df.columns:\n",
    "    print(\"Missing value count in \"+col+\" :- \"+str(len(df[pd.isna(df[col])])))"
   ]
  },
  {
   "cell_type": "code",
   "execution_count": 19,
   "id": "a5a87f40",
   "metadata": {},
   "outputs": [
    {
     "data": {
      "text/html": [
       "<div>\n",
       "<style scoped>\n",
       "    .dataframe tbody tr th:only-of-type {\n",
       "        vertical-align: middle;\n",
       "    }\n",
       "\n",
       "    .dataframe tbody tr th {\n",
       "        vertical-align: top;\n",
       "    }\n",
       "\n",
       "    .dataframe thead th {\n",
       "        text-align: right;\n",
       "    }\n",
       "</style>\n",
       "<table border=\"1\" class=\"dataframe\">\n",
       "  <thead>\n",
       "    <tr style=\"text-align: right;\">\n",
       "      <th></th>\n",
       "      <th>release_year</th>\n",
       "    </tr>\n",
       "  </thead>\n",
       "  <tbody>\n",
       "    <tr>\n",
       "      <th>count</th>\n",
       "      <td>8807.000000</td>\n",
       "    </tr>\n",
       "    <tr>\n",
       "      <th>mean</th>\n",
       "      <td>2014.180198</td>\n",
       "    </tr>\n",
       "    <tr>\n",
       "      <th>std</th>\n",
       "      <td>8.819312</td>\n",
       "    </tr>\n",
       "    <tr>\n",
       "      <th>min</th>\n",
       "      <td>1925.000000</td>\n",
       "    </tr>\n",
       "    <tr>\n",
       "      <th>25%</th>\n",
       "      <td>2013.000000</td>\n",
       "    </tr>\n",
       "    <tr>\n",
       "      <th>50%</th>\n",
       "      <td>2017.000000</td>\n",
       "    </tr>\n",
       "    <tr>\n",
       "      <th>75%</th>\n",
       "      <td>2019.000000</td>\n",
       "    </tr>\n",
       "    <tr>\n",
       "      <th>max</th>\n",
       "      <td>2021.000000</td>\n",
       "    </tr>\n",
       "  </tbody>\n",
       "</table>\n",
       "</div>"
      ],
      "text/plain": [
       "       release_year\n",
       "count   8807.000000\n",
       "mean    2014.180198\n",
       "std        8.819312\n",
       "min     1925.000000\n",
       "25%     2013.000000\n",
       "50%     2017.000000\n",
       "75%     2019.000000\n",
       "max     2021.000000"
      ]
     },
     "execution_count": 19,
     "metadata": {},
     "output_type": "execute_result"
    }
   ],
   "source": [
    "#statistical summary \n",
    "df.describe() "
   ]
  },
  {
   "cell_type": "code",
   "execution_count": null,
   "id": "6cedfd47",
   "metadata": {},
   "outputs": [
    {
     "data": {
      "text/html": [
       "<div>\n",
       "<style scoped>\n",
       "    .dataframe tbody tr th:only-of-type {\n",
       "        vertical-align: middle;\n",
       "    }\n",
       "\n",
       "    .dataframe tbody tr th {\n",
       "        vertical-align: top;\n",
       "    }\n",
       "\n",
       "    .dataframe thead th {\n",
       "        text-align: right;\n",
       "    }\n",
       "</style>\n",
       "<table border=\"1\" class=\"dataframe\">\n",
       "  <thead>\n",
       "    <tr style=\"text-align: right;\">\n",
       "      <th></th>\n",
       "      <th>show_id</th>\n",
       "      <th>type</th>\n",
       "      <th>title</th>\n",
       "      <th>director</th>\n",
       "      <th>cast</th>\n",
       "      <th>country</th>\n",
       "      <th>date_added</th>\n",
       "      <th>rating</th>\n",
       "      <th>duration</th>\n",
       "      <th>listed_in</th>\n",
       "      <th>description</th>\n",
       "    </tr>\n",
       "  </thead>\n",
       "  <tbody>\n",
       "    <tr>\n",
       "      <th>count</th>\n",
       "      <td>8807</td>\n",
       "      <td>8807</td>\n",
       "      <td>8807</td>\n",
       "      <td>6173</td>\n",
       "      <td>7982</td>\n",
       "      <td>7976</td>\n",
       "      <td>8797</td>\n",
       "      <td>8803</td>\n",
       "      <td>8804</td>\n",
       "      <td>8807</td>\n",
       "      <td>8807</td>\n",
       "    </tr>\n",
       "    <tr>\n",
       "      <th>unique</th>\n",
       "      <td>8807</td>\n",
       "      <td>2</td>\n",
       "      <td>8807</td>\n",
       "      <td>4528</td>\n",
       "      <td>7692</td>\n",
       "      <td>748</td>\n",
       "      <td>1767</td>\n",
       "      <td>17</td>\n",
       "      <td>220</td>\n",
       "      <td>514</td>\n",
       "      <td>8775</td>\n",
       "    </tr>\n",
       "    <tr>\n",
       "      <th>top</th>\n",
       "      <td>s8807</td>\n",
       "      <td>Movie</td>\n",
       "      <td>Zubaan</td>\n",
       "      <td>Rajiv Chilaka</td>\n",
       "      <td>David Attenborough</td>\n",
       "      <td>United States</td>\n",
       "      <td>January 1, 2020</td>\n",
       "      <td>TV-MA</td>\n",
       "      <td>1 Season</td>\n",
       "      <td>Dramas, International Movies</td>\n",
       "      <td>Paranormal activity at a lush, abandoned prope...</td>\n",
       "    </tr>\n",
       "    <tr>\n",
       "      <th>freq</th>\n",
       "      <td>1</td>\n",
       "      <td>6131</td>\n",
       "      <td>1</td>\n",
       "      <td>19</td>\n",
       "      <td>19</td>\n",
       "      <td>2818</td>\n",
       "      <td>109</td>\n",
       "      <td>3207</td>\n",
       "      <td>1793</td>\n",
       "      <td>362</td>\n",
       "      <td>4</td>\n",
       "    </tr>\n",
       "  </tbody>\n",
       "</table>\n",
       "</div>"
      ],
      "text/plain": [
       "       show_id   type   title       director                cast  \\\n",
       "count     8807   8807    8807           6173                7982   \n",
       "unique    8807      2    8807           4528                7692   \n",
       "top      s8807  Movie  Zubaan  Rajiv Chilaka  David Attenborough   \n",
       "freq         1   6131       1             19                  19   \n",
       "\n",
       "              country       date_added rating  duration  \\\n",
       "count            7976             8797   8803      8804   \n",
       "unique            748             1767     17       220   \n",
       "top     United States  January 1, 2020  TV-MA  1 Season   \n",
       "freq             2818              109   3207      1793   \n",
       "\n",
       "                           listed_in  \\\n",
       "count                           8807   \n",
       "unique                           514   \n",
       "top     Dramas, International Movies   \n",
       "freq                             362   \n",
       "\n",
       "                                              description  \n",
       "count                                                8807  \n",
       "unique                                               8775  \n",
       "top     Paranormal activity at a lush, abandoned prope...  \n",
       "freq                                                    4  "
      ]
     },
     "execution_count": 20,
     "metadata": {},
     "output_type": "execute_result"
    }
   ],
   "source": [
    "\n",
    "#statistical summary of object\n",
    "df.describe(include=object) "
   ]
  },
  {
   "cell_type": "code",
   "execution_count": 58,
   "id": "f156afc6",
   "metadata": {},
   "outputs": [],
   "source": [
    "#Replace Missing Values\n",
    "df[\"director\"] = df[\"director\"].fillna(\"Other_director\")\n",
    "df[\"country\"] = df[\"country\"].fillna(\"Other_Country\")\n",
    "df[\"cast\"] = df[\"cast\"].fillna(\"other_cast\")\n",
    "df[\"release_year\"] = df[\"release_year\"].fillna(0)\n"
   ]
  },
  {
   "cell_type": "code",
   "execution_count": 60,
   "id": "1e892732",
   "metadata": {},
   "outputs": [
    {
     "data": {
      "text/html": [
       "<div>\n",
       "<style scoped>\n",
       "    .dataframe tbody tr th:only-of-type {\n",
       "        vertical-align: middle;\n",
       "    }\n",
       "\n",
       "    .dataframe tbody tr th {\n",
       "        vertical-align: top;\n",
       "    }\n",
       "\n",
       "    .dataframe thead th {\n",
       "        text-align: right;\n",
       "    }\n",
       "</style>\n",
       "<table border=\"1\" class=\"dataframe\">\n",
       "  <thead>\n",
       "    <tr style=\"text-align: right;\">\n",
       "      <th></th>\n",
       "      <th>show_id</th>\n",
       "      <th>type</th>\n",
       "      <th>title</th>\n",
       "      <th>director</th>\n",
       "      <th>cast</th>\n",
       "      <th>country</th>\n",
       "      <th>date_added</th>\n",
       "      <th>release_year</th>\n",
       "      <th>rating</th>\n",
       "      <th>duration</th>\n",
       "      <th>listed_in</th>\n",
       "      <th>description</th>\n",
       "      <th>Week</th>\n",
       "      <th>Month</th>\n",
       "    </tr>\n",
       "  </thead>\n",
       "  <tbody>\n",
       "    <tr>\n",
       "      <th>0</th>\n",
       "      <td>s1</td>\n",
       "      <td>Movie</td>\n",
       "      <td>Dick Johnson Is Dead</td>\n",
       "      <td>Kirsten Johnson</td>\n",
       "      <td>other_cast</td>\n",
       "      <td>United States</td>\n",
       "      <td>2021-09-25</td>\n",
       "      <td>2020</td>\n",
       "      <td>PG-13</td>\n",
       "      <td>90 min</td>\n",
       "      <td>Documentaries</td>\n",
       "      <td>As her father nears the end of his life, filmm...</td>\n",
       "      <td>38</td>\n",
       "      <td>9.0</td>\n",
       "    </tr>\n",
       "    <tr>\n",
       "      <th>1</th>\n",
       "      <td>s2</td>\n",
       "      <td>TV Show</td>\n",
       "      <td>Blood &amp; Water</td>\n",
       "      <td>Other_director</td>\n",
       "      <td>Ama Qamata, Khosi Ngema, Gail Mabalane, Thaban...</td>\n",
       "      <td>South Africa</td>\n",
       "      <td>2021-09-24</td>\n",
       "      <td>2021</td>\n",
       "      <td>TV-MA</td>\n",
       "      <td>2 Seasons</td>\n",
       "      <td>International TV Shows, TV Dramas, TV Mysteries</td>\n",
       "      <td>After crossing paths at a party, a Cape Town t...</td>\n",
       "      <td>38</td>\n",
       "      <td>9.0</td>\n",
       "    </tr>\n",
       "    <tr>\n",
       "      <th>2</th>\n",
       "      <td>s3</td>\n",
       "      <td>TV Show</td>\n",
       "      <td>Ganglands</td>\n",
       "      <td>Julien Leclercq</td>\n",
       "      <td>Sami Bouajila, Tracy Gotoas, Samuel Jouy, Nabi...</td>\n",
       "      <td>Other_Country</td>\n",
       "      <td>2021-09-24</td>\n",
       "      <td>2021</td>\n",
       "      <td>TV-MA</td>\n",
       "      <td>1 Season</td>\n",
       "      <td>Crime TV Shows, International TV Shows, TV Act...</td>\n",
       "      <td>To protect his family from a powerful drug lor...</td>\n",
       "      <td>38</td>\n",
       "      <td>9.0</td>\n",
       "    </tr>\n",
       "    <tr>\n",
       "      <th>3</th>\n",
       "      <td>s4</td>\n",
       "      <td>TV Show</td>\n",
       "      <td>Jailbirds New Orleans</td>\n",
       "      <td>Other_director</td>\n",
       "      <td>other_cast</td>\n",
       "      <td>Other_Country</td>\n",
       "      <td>2021-09-24</td>\n",
       "      <td>2021</td>\n",
       "      <td>TV-MA</td>\n",
       "      <td>1 Season</td>\n",
       "      <td>Docuseries, Reality TV</td>\n",
       "      <td>Feuds, flirtations and toilet talk go down amo...</td>\n",
       "      <td>38</td>\n",
       "      <td>9.0</td>\n",
       "    </tr>\n",
       "    <tr>\n",
       "      <th>4</th>\n",
       "      <td>s5</td>\n",
       "      <td>TV Show</td>\n",
       "      <td>Kota Factory</td>\n",
       "      <td>Other_director</td>\n",
       "      <td>Mayur More, Jitendra Kumar, Ranjan Raj, Alam K...</td>\n",
       "      <td>India</td>\n",
       "      <td>2021-09-24</td>\n",
       "      <td>2021</td>\n",
       "      <td>TV-MA</td>\n",
       "      <td>2 Seasons</td>\n",
       "      <td>International TV Shows, Romantic TV Shows, TV ...</td>\n",
       "      <td>In a city of coaching centers known to train I...</td>\n",
       "      <td>38</td>\n",
       "      <td>9.0</td>\n",
       "    </tr>\n",
       "  </tbody>\n",
       "</table>\n",
       "</div>"
      ],
      "text/plain": [
       "  show_id     type                  title         director  \\\n",
       "0      s1    Movie   Dick Johnson Is Dead  Kirsten Johnson   \n",
       "1      s2  TV Show          Blood & Water   Other_director   \n",
       "2      s3  TV Show              Ganglands  Julien Leclercq   \n",
       "3      s4  TV Show  Jailbirds New Orleans   Other_director   \n",
       "4      s5  TV Show           Kota Factory   Other_director   \n",
       "\n",
       "                                                cast        country  \\\n",
       "0                                         other_cast  United States   \n",
       "1  Ama Qamata, Khosi Ngema, Gail Mabalane, Thaban...   South Africa   \n",
       "2  Sami Bouajila, Tracy Gotoas, Samuel Jouy, Nabi...  Other_Country   \n",
       "3                                         other_cast  Other_Country   \n",
       "4  Mayur More, Jitendra Kumar, Ranjan Raj, Alam K...          India   \n",
       "\n",
       "  date_added  release_year rating   duration  \\\n",
       "0 2021-09-25          2020  PG-13     90 min   \n",
       "1 2021-09-24          2021  TV-MA  2 Seasons   \n",
       "2 2021-09-24          2021  TV-MA   1 Season   \n",
       "3 2021-09-24          2021  TV-MA   1 Season   \n",
       "4 2021-09-24          2021  TV-MA  2 Seasons   \n",
       "\n",
       "                                           listed_in  \\\n",
       "0                                      Documentaries   \n",
       "1    International TV Shows, TV Dramas, TV Mysteries   \n",
       "2  Crime TV Shows, International TV Shows, TV Act...   \n",
       "3                             Docuseries, Reality TV   \n",
       "4  International TV Shows, Romantic TV Shows, TV ...   \n",
       "\n",
       "                                         description  Week  Month  \n",
       "0  As her father nears the end of his life, filmm...    38    9.0  \n",
       "1  After crossing paths at a party, a Cape Town t...    38    9.0  \n",
       "2  To protect his family from a powerful drug lor...    38    9.0  \n",
       "3  Feuds, flirtations and toilet talk go down amo...    38    9.0  \n",
       "4  In a city of coaching centers known to train I...    38    9.0  "
      ]
     },
     "execution_count": 60,
     "metadata": {},
     "output_type": "execute_result"
    }
   ],
   "source": [
    "df.head(5)"
   ]
  },
  {
   "cell_type": "code",
   "execution_count": 63,
   "id": "7e5dfa11",
   "metadata": {},
   "outputs": [
    {
     "data": {
      "text/html": [
       "<div>\n",
       "<style scoped>\n",
       "    .dataframe tbody tr th:only-of-type {\n",
       "        vertical-align: middle;\n",
       "    }\n",
       "\n",
       "    .dataframe tbody tr th {\n",
       "        vertical-align: top;\n",
       "    }\n",
       "\n",
       "    .dataframe thead th {\n",
       "        text-align: right;\n",
       "    }\n",
       "</style>\n",
       "<table border=\"1\" class=\"dataframe\">\n",
       "  <thead>\n",
       "    <tr style=\"text-align: right;\">\n",
       "      <th></th>\n",
       "      <th>listed_in</th>\n",
       "      <th>country</th>\n",
       "      <th>director</th>\n",
       "    </tr>\n",
       "  </thead>\n",
       "  <tbody>\n",
       "    <tr>\n",
       "      <th>0</th>\n",
       "      <td>Documentaries</td>\n",
       "      <td>United States</td>\n",
       "      <td>Kirsten Johnson</td>\n",
       "    </tr>\n",
       "    <tr>\n",
       "      <th>1</th>\n",
       "      <td>International TV Shows, TV Dramas, TV Mysteries</td>\n",
       "      <td>South Africa</td>\n",
       "      <td>Other_director</td>\n",
       "    </tr>\n",
       "    <tr>\n",
       "      <th>2</th>\n",
       "      <td>Crime TV Shows, International TV Shows, TV Act...</td>\n",
       "      <td>Other_Country</td>\n",
       "      <td>Julien Leclercq</td>\n",
       "    </tr>\n",
       "    <tr>\n",
       "      <th>3</th>\n",
       "      <td>Docuseries, Reality TV</td>\n",
       "      <td>Other_Country</td>\n",
       "      <td>Other_director</td>\n",
       "    </tr>\n",
       "    <tr>\n",
       "      <th>4</th>\n",
       "      <td>International TV Shows, Romantic TV Shows, TV ...</td>\n",
       "      <td>India</td>\n",
       "      <td>Other_director</td>\n",
       "    </tr>\n",
       "  </tbody>\n",
       "</table>\n",
       "</div>"
      ],
      "text/plain": [
       "                                           listed_in        country  \\\n",
       "0                                      Documentaries  United States   \n",
       "1    International TV Shows, TV Dramas, TV Mysteries   South Africa   \n",
       "2  Crime TV Shows, International TV Shows, TV Act...  Other_Country   \n",
       "3                             Docuseries, Reality TV  Other_Country   \n",
       "4  International TV Shows, Romantic TV Shows, TV ...          India   \n",
       "\n",
       "          director  \n",
       "0  Kirsten Johnson  \n",
       "1   Other_director  \n",
       "2  Julien Leclercq  \n",
       "3   Other_director  \n",
       "4   Other_director  "
      ]
     },
     "execution_count": 63,
     "metadata": {},
     "output_type": "execute_result"
    }
   ],
   "source": [
    "small_df = df[['listed_in','country','director']]\n",
    "small_df.head(5)"
   ]
  },
  {
   "cell_type": "code",
   "execution_count": 67,
   "id": "8fa4f216",
   "metadata": {},
   "outputs": [
    {
     "data": {
      "text/html": [
       "<div>\n",
       "<style scoped>\n",
       "    .dataframe tbody tr th:only-of-type {\n",
       "        vertical-align: middle;\n",
       "    }\n",
       "\n",
       "    .dataframe tbody tr th {\n",
       "        vertical-align: top;\n",
       "    }\n",
       "\n",
       "    .dataframe thead th {\n",
       "        text-align: right;\n",
       "    }\n",
       "</style>\n",
       "<table border=\"1\" class=\"dataframe\">\n",
       "  <thead>\n",
       "    <tr style=\"text-align: right;\">\n",
       "      <th></th>\n",
       "      <th>listed_in</th>\n",
       "      <th>country</th>\n",
       "      <th>director</th>\n",
       "    </tr>\n",
       "  </thead>\n",
       "  <tbody>\n",
       "    <tr>\n",
       "      <th>0</th>\n",
       "      <td>Documentaries</td>\n",
       "      <td>United States</td>\n",
       "      <td>Kirsten Johnson</td>\n",
       "    </tr>\n",
       "    <tr>\n",
       "      <th>1</th>\n",
       "      <td>International TV Shows</td>\n",
       "      <td>South Africa</td>\n",
       "      <td>Other_director</td>\n",
       "    </tr>\n",
       "    <tr>\n",
       "      <th>1</th>\n",
       "      <td>TV Dramas</td>\n",
       "      <td>South Africa</td>\n",
       "      <td>Other_director</td>\n",
       "    </tr>\n",
       "    <tr>\n",
       "      <th>1</th>\n",
       "      <td>TV Mysteries</td>\n",
       "      <td>South Africa</td>\n",
       "      <td>Other_director</td>\n",
       "    </tr>\n",
       "    <tr>\n",
       "      <th>2</th>\n",
       "      <td>Crime TV Shows</td>\n",
       "      <td>Other_Country</td>\n",
       "      <td>Julien Leclercq</td>\n",
       "    </tr>\n",
       "    <tr>\n",
       "      <th>2</th>\n",
       "      <td>International TV Shows</td>\n",
       "      <td>Other_Country</td>\n",
       "      <td>Julien Leclercq</td>\n",
       "    </tr>\n",
       "    <tr>\n",
       "      <th>2</th>\n",
       "      <td>TV Action &amp; Adventure</td>\n",
       "      <td>Other_Country</td>\n",
       "      <td>Julien Leclercq</td>\n",
       "    </tr>\n",
       "    <tr>\n",
       "      <th>3</th>\n",
       "      <td>Docuseries</td>\n",
       "      <td>Other_Country</td>\n",
       "      <td>Other_director</td>\n",
       "    </tr>\n",
       "    <tr>\n",
       "      <th>3</th>\n",
       "      <td>Reality TV</td>\n",
       "      <td>Other_Country</td>\n",
       "      <td>Other_director</td>\n",
       "    </tr>\n",
       "    <tr>\n",
       "      <th>4</th>\n",
       "      <td>International TV Shows</td>\n",
       "      <td>India</td>\n",
       "      <td>Other_director</td>\n",
       "    </tr>\n",
       "    <tr>\n",
       "      <th>4</th>\n",
       "      <td>Romantic TV Shows</td>\n",
       "      <td>India</td>\n",
       "      <td>Other_director</td>\n",
       "    </tr>\n",
       "    <tr>\n",
       "      <th>4</th>\n",
       "      <td>TV Comedies</td>\n",
       "      <td>India</td>\n",
       "      <td>Other_director</td>\n",
       "    </tr>\n",
       "    <tr>\n",
       "      <th>5</th>\n",
       "      <td>TV Dramas</td>\n",
       "      <td>Other_Country</td>\n",
       "      <td>Mike Flanagan</td>\n",
       "    </tr>\n",
       "    <tr>\n",
       "      <th>5</th>\n",
       "      <td>TV Horror</td>\n",
       "      <td>Other_Country</td>\n",
       "      <td>Mike Flanagan</td>\n",
       "    </tr>\n",
       "    <tr>\n",
       "      <th>5</th>\n",
       "      <td>TV Mysteries</td>\n",
       "      <td>Other_Country</td>\n",
       "      <td>Mike Flanagan</td>\n",
       "    </tr>\n",
       "    <tr>\n",
       "      <th>6</th>\n",
       "      <td>Children &amp; Family Movies</td>\n",
       "      <td>Other_Country</td>\n",
       "      <td>Robert Cullen, JosÃ© Luis Ucha</td>\n",
       "    </tr>\n",
       "    <tr>\n",
       "      <th>7</th>\n",
       "      <td>Dramas</td>\n",
       "      <td>United States, Ghana, Burkina Faso, United Kin...</td>\n",
       "      <td>Haile Gerima</td>\n",
       "    </tr>\n",
       "    <tr>\n",
       "      <th>7</th>\n",
       "      <td>Independent Movies</td>\n",
       "      <td>United States, Ghana, Burkina Faso, United Kin...</td>\n",
       "      <td>Haile Gerima</td>\n",
       "    </tr>\n",
       "    <tr>\n",
       "      <th>7</th>\n",
       "      <td>International Movies</td>\n",
       "      <td>United States, Ghana, Burkina Faso, United Kin...</td>\n",
       "      <td>Haile Gerima</td>\n",
       "    </tr>\n",
       "    <tr>\n",
       "      <th>8</th>\n",
       "      <td>British TV Shows</td>\n",
       "      <td>United Kingdom</td>\n",
       "      <td>Andy Devonshire</td>\n",
       "    </tr>\n",
       "  </tbody>\n",
       "</table>\n",
       "</div>"
      ],
      "text/plain": [
       "                  listed_in  \\\n",
       "0             Documentaries   \n",
       "1    International TV Shows   \n",
       "1                 TV Dramas   \n",
       "1              TV Mysteries   \n",
       "2            Crime TV Shows   \n",
       "2    International TV Shows   \n",
       "2     TV Action & Adventure   \n",
       "3                Docuseries   \n",
       "3                Reality TV   \n",
       "4    International TV Shows   \n",
       "4         Romantic TV Shows   \n",
       "4               TV Comedies   \n",
       "5                 TV Dramas   \n",
       "5                 TV Horror   \n",
       "5              TV Mysteries   \n",
       "6  Children & Family Movies   \n",
       "7                    Dramas   \n",
       "7        Independent Movies   \n",
       "7      International Movies   \n",
       "8          British TV Shows   \n",
       "\n",
       "                                             country  \\\n",
       "0                                      United States   \n",
       "1                                       South Africa   \n",
       "1                                       South Africa   \n",
       "1                                       South Africa   \n",
       "2                                      Other_Country   \n",
       "2                                      Other_Country   \n",
       "2                                      Other_Country   \n",
       "3                                      Other_Country   \n",
       "3                                      Other_Country   \n",
       "4                                              India   \n",
       "4                                              India   \n",
       "4                                              India   \n",
       "5                                      Other_Country   \n",
       "5                                      Other_Country   \n",
       "5                                      Other_Country   \n",
       "6                                      Other_Country   \n",
       "7  United States, Ghana, Burkina Faso, United Kin...   \n",
       "7  United States, Ghana, Burkina Faso, United Kin...   \n",
       "7  United States, Ghana, Burkina Faso, United Kin...   \n",
       "8                                     United Kingdom   \n",
       "\n",
       "                         director  \n",
       "0                 Kirsten Johnson  \n",
       "1                  Other_director  \n",
       "1                  Other_director  \n",
       "1                  Other_director  \n",
       "2                 Julien Leclercq  \n",
       "2                 Julien Leclercq  \n",
       "2                 Julien Leclercq  \n",
       "3                  Other_director  \n",
       "3                  Other_director  \n",
       "4                  Other_director  \n",
       "4                  Other_director  \n",
       "4                  Other_director  \n",
       "5                   Mike Flanagan  \n",
       "5                   Mike Flanagan  \n",
       "5                   Mike Flanagan  \n",
       "6  Robert Cullen, JosÃ© Luis Ucha  \n",
       "7                    Haile Gerima  \n",
       "7                    Haile Gerima  \n",
       "7                    Haile Gerima  \n",
       "8                 Andy Devonshire  "
      ]
     },
     "execution_count": 67,
     "metadata": {},
     "output_type": "execute_result"
    }
   ],
   "source": [
    "small_df['listed_in'] = small_df['listed_in'].apply(lambda x: str(x).split(', '))\n",
    "small_df = small_df.explode('listed_in')\n",
    "small_df.head(20)"
   ]
  },
  {
   "cell_type": "markdown",
   "id": "1da4cc8e",
   "metadata": {},
   "source": [
    "3. Non-Graphical Analysis: Value counts and\n",
    "unique attributes"
   ]
  },
  {
   "cell_type": "code",
   "execution_count": 69,
   "id": "2a859418",
   "metadata": {},
   "outputs": [
    {
     "data": {
      "text/plain": [
       "8807"
      ]
     },
     "execution_count": 69,
     "metadata": {},
     "output_type": "execute_result"
    }
   ],
   "source": [
    "# value counts of show_id\n",
    "len(df[\"show_id\"].value_counts())"
   ]
  },
  {
   "cell_type": "code",
   "execution_count": 70,
   "id": "50de9998",
   "metadata": {},
   "outputs": [
    {
     "data": {
      "text/plain": [
       "8807"
      ]
     },
     "execution_count": 70,
     "metadata": {},
     "output_type": "execute_result"
    }
   ],
   "source": [
    "# Unique count of show_id\n",
    "df[\"show_id\"].nunique() "
   ]
  },
  {
   "cell_type": "code",
   "execution_count": 71,
   "id": "6e2c6a15",
   "metadata": {},
   "outputs": [
    {
     "data": {
      "text/plain": [
       "type\n",
       "Movie      6131\n",
       "TV Show    2676\n",
       "Name: count, dtype: int64"
      ]
     },
     "execution_count": 71,
     "metadata": {},
     "output_type": "execute_result"
    }
   ],
   "source": [
    "# value counts of Type\n",
    "df[\"type\"].value_counts() "
   ]
  },
  {
   "cell_type": "code",
   "execution_count": 73,
   "id": "b8e18d0f",
   "metadata": {},
   "outputs": [
    {
     "name": "stdout",
     "output_type": "stream",
     "text": [
      "2\n"
     ]
    }
   ],
   "source": [
    "# Unique count of Type\n",
    "print(df[\"type\"].nunique())"
   ]
  },
  {
   "cell_type": "code",
   "execution_count": 74,
   "id": "3a0368aa",
   "metadata": {},
   "outputs": [
    {
     "data": {
      "text/plain": [
       "title\n",
       "Zubaan                                 1\n",
       "Dick Johnson Is Dead                   1\n",
       "Blood & Water                          1\n",
       "Ganglands                              1\n",
       "Jailbirds New Orleans                  1\n",
       "                                      ..\n",
       "Bangkok Breaking                       1\n",
       "Vendetta: Truth, Lies and The Mafia    1\n",
       "The Starling                           1\n",
       "The Great British Baking Show          1\n",
       "Sankofa                                1\n",
       "Name: count, Length: 8807, dtype: int64"
      ]
     },
     "execution_count": 74,
     "metadata": {},
     "output_type": "execute_result"
    }
   ],
   "source": [
    "# value counts of title\n",
    "df[\"title\"].value_counts() "
   ]
  },
  {
   "cell_type": "code",
   "execution_count": 75,
   "id": "c07e9130",
   "metadata": {},
   "outputs": [
    {
     "data": {
      "text/plain": [
       "8807"
      ]
     },
     "execution_count": 75,
     "metadata": {},
     "output_type": "execute_result"
    }
   ],
   "source": [
    "# Unique count of title\n",
    "df[\"title\"].nunique() "
   ]
  },
  {
   "cell_type": "code",
   "execution_count": 76,
   "id": "3969483c",
   "metadata": {},
   "outputs": [
    {
     "data": {
      "text/plain": [
       "director\n",
       "Other_director                            2634\n",
       "Rajiv Chilaka                               19\n",
       "RaÃºl Campos, Jan Suter                     18\n",
       "Suhas Kadav                                 16\n",
       "Marcus Raboy                                16\n",
       "                                          ... \n",
       "Milla Harrison-Hansley, Alicky Sussman       1\n",
       "Drew Stone                                   1\n",
       "Benjamin Turner                              1\n",
       "S. Shankar                                   1\n",
       "Peter Hewitt                                 1\n",
       "Name: count, Length: 4529, dtype: int64"
      ]
     },
     "execution_count": 76,
     "metadata": {},
     "output_type": "execute_result"
    }
   ],
   "source": [
    "# value counts of director\n",
    "df[\"director\"].value_counts() "
   ]
  },
  {
   "cell_type": "code",
   "execution_count": 77,
   "id": "83618d34",
   "metadata": {},
   "outputs": [
    {
     "data": {
      "text/plain": [
       "cast\n",
       "other_cast                                                                                                                                                      825\n",
       "David Attenborough                                                                                                                                               19\n",
       "Vatsal Dubey, Julie Tejwani, Rupa Bhimani, Jigna Bhardwaj, Rajesh Kava, Mousam, Swapnil                                                                          14\n",
       "Samuel West                                                                                                                                                      10\n",
       "Jeff Dunham                                                                                                                                                       7\n",
       "                                                                                                                                                               ... \n",
       "Ali Suliman, Saleh Bakri, Yasa, Ali Al-Jabri, Mansoor Alfeeli, Ahd                                                                                                1\n",
       "Mark Ruffalo, Jake Gyllenhaal, Robert Downey Jr., Anthony Edwards, Brian Cox, Elias Koteas, Donal Logue, John Carroll Lynch, Dermot Mulroney, ChloÃ« Sevigny      1\n",
       "Jesse Eisenberg, Woody Harrelson, Emma Stone, Abigail Breslin, Amber Heard, Bill Murray, Derek Graf                                                               1\n",
       "Tim Allen, Courteney Cox, Chevy Chase, Kate Mara, Ryan Newman, Michael Cassidy, Spencer Breslin, Rip Torn, Kevin Zegers                                           1\n",
       "Ankush Choudhary, Smita Shewale, Mohan Joshi, Atmaram Bhende, Asha Bhende                                                                                         1\n",
       "Name: count, Length: 7693, dtype: int64"
      ]
     },
     "execution_count": 77,
     "metadata": {},
     "output_type": "execute_result"
    }
   ],
   "source": [
    "# value counts of cast\n",
    "df[\"cast\"].value_counts() "
   ]
  },
  {
   "cell_type": "code",
   "execution_count": 78,
   "id": "97658194",
   "metadata": {},
   "outputs": [
    {
     "data": {
      "text/plain": [
       "7693"
      ]
     },
     "execution_count": 78,
     "metadata": {},
     "output_type": "execute_result"
    }
   ],
   "source": [
    "# Unique count of cast\n",
    "df[\"cast\"].nunique() "
   ]
  },
  {
   "cell_type": "code",
   "execution_count": 93,
   "id": "ba083596",
   "metadata": {},
   "outputs": [
    {
     "data": {
      "text/plain": [
       "country\n",
       "United States                                             2818\n",
       "India                                                      972\n",
       "Other_Country                                              831\n",
       "United Kingdom                                             419\n",
       "Japan                                                      245\n",
       "                                                          ... \n",
       "Germany, Canada, United States                               1\n",
       "Denmark, United Kingdom, South Africa, Sweden, Belgium       1\n",
       "Serbia, South Korea, Slovenia                                1\n",
       "United Kingdom, Spain, Belgium                               1\n",
       "South Africa, United States, Japan                           1\n",
       "Name: count, Length: 749, dtype: int64"
      ]
     },
     "execution_count": 93,
     "metadata": {},
     "output_type": "execute_result"
    }
   ],
   "source": [
    "# value counts of country\n",
    "df[\"country\"].value_counts() "
   ]
  },
  {
   "cell_type": "code",
   "execution_count": 95,
   "id": "e4e11cb2",
   "metadata": {},
   "outputs": [
    {
     "data": {
      "text/plain": [
       "date_added\n",
       "2020-01-01    110\n",
       "2019-11-01     91\n",
       "2018-03-01     75\n",
       "2019-12-31     74\n",
       "2018-10-01     71\n",
       "             ... \n",
       "2019-06-23      1\n",
       "2019-09-11      1\n",
       "2015-05-17      1\n",
       "2021-09-20      1\n",
       "2021-09-25      1\n",
       "Name: count, Length: 1714, dtype: int64"
      ]
     },
     "execution_count": 95,
     "metadata": {},
     "output_type": "execute_result"
    }
   ],
   "source": [
    "# value counts of date_added\n",
    "df[\"date_added\"].value_counts() "
   ]
  },
  {
   "cell_type": "code",
   "execution_count": 96,
   "id": "054bfaac",
   "metadata": {},
   "outputs": [
    {
     "data": {
      "text/plain": [
       "1714"
      ]
     },
     "execution_count": 96,
     "metadata": {},
     "output_type": "execute_result"
    }
   ],
   "source": [
    "# Unique count of date_added\n",
    "df[\"date_added\"].nunique() "
   ]
  },
  {
   "cell_type": "code",
   "execution_count": 97,
   "id": "a862ec8b",
   "metadata": {},
   "outputs": [
    {
     "data": {
      "text/plain": [
       "release_year\n",
       "2018    1147\n",
       "2017    1032\n",
       "2019    1030\n",
       "2020     953\n",
       "2016     902\n",
       "        ... \n",
       "1961       1\n",
       "1925       1\n",
       "1959       1\n",
       "1966       1\n",
       "1947       1\n",
       "Name: count, Length: 74, dtype: int64"
      ]
     },
     "execution_count": 97,
     "metadata": {},
     "output_type": "execute_result"
    }
   ],
   "source": [
    "# value counts of release_year\n",
    "df[\"release_year\"].value_counts() "
   ]
  },
  {
   "cell_type": "code",
   "execution_count": 98,
   "id": "0d765275",
   "metadata": {},
   "outputs": [
    {
     "data": {
      "text/plain": [
       "74"
      ]
     },
     "execution_count": 98,
     "metadata": {},
     "output_type": "execute_result"
    }
   ],
   "source": [
    "# Unique count of release_year\n",
    "df[\"release_year\"].nunique() "
   ]
  },
  {
   "cell_type": "code",
   "execution_count": 99,
   "id": "963d44b5",
   "metadata": {},
   "outputs": [
    {
     "data": {
      "text/plain": [
       "duration\n",
       "1 Season     1793\n",
       "2 Seasons     425\n",
       "3 Seasons     199\n",
       "90 min        152\n",
       "97 min        146\n",
       "             ... \n",
       "228 min         1\n",
       "18 min          1\n",
       "205 min         1\n",
       "201 min         1\n",
       "191 min         1\n",
       "Name: count, Length: 220, dtype: int64"
      ]
     },
     "execution_count": 99,
     "metadata": {},
     "output_type": "execute_result"
    }
   ],
   "source": [
    "# value counts of duration\n",
    "df[\"duration\"].value_counts() "
   ]
  },
  {
   "cell_type": "code",
   "execution_count": 100,
   "id": "4f7e8488",
   "metadata": {},
   "outputs": [
    {
     "data": {
      "text/plain": [
       "listed_in\n",
       "Dramas, International Movies                        362\n",
       "Documentaries                                       359\n",
       "Stand-Up Comedy                                     334\n",
       "Comedies, Dramas, International Movies              274\n",
       "Dramas, Independent Movies, International Movies    252\n",
       "                                                   ... \n",
       "Action & Adventure, Cult Movies                       1\n",
       "Action & Adventure, Comedies, Music & Musicals        1\n",
       "Classic Movies, Horror Movies, Thrillers              1\n",
       "Children & Family Movies, Classic Movies, Dramas      1\n",
       "Cult Movies, Dramas, Thrillers                        1\n",
       "Name: count, Length: 514, dtype: int64"
      ]
     },
     "execution_count": 100,
     "metadata": {},
     "output_type": "execute_result"
    }
   ],
   "source": [
    "# value counts of listed_in\n",
    "df[\"listed_in\"].value_counts() "
   ]
  },
  {
   "cell_type": "code",
   "execution_count": 101,
   "id": "0845183d",
   "metadata": {},
   "outputs": [
    {
     "data": {
      "text/plain": [
       "514"
      ]
     },
     "execution_count": 101,
     "metadata": {},
     "output_type": "execute_result"
    }
   ],
   "source": [
    "# Unique count of listed_in\n",
    "df[\"listed_in\"].nunique() "
   ]
  },
  {
   "cell_type": "code",
   "execution_count": 102,
   "id": "151a6286",
   "metadata": {},
   "outputs": [
    {
     "data": {
      "text/plain": [
       "description\n",
       "Paranormal activity at a lush, abandoned property alarms a group eager to redevelop the site, but the eerie events may not be as unearthly as they think.     4\n",
       "A surly septuagenarian gets another chance at her 20s after having her photo snapped at a studio that magically takes 50 years off her life.                  3\n",
       "Multiple women report their husbands as missing but when it appears they are looking for the same man, a police officer traces their cryptic connection.      3\n",
       "Challenged to compose 100 songs before he can marry the girl he loves, a tortured but passionate singer-songwriter embarks on a poignant musical journey.     3\n",
       "As a woman scours Hyderabad for her missing husband, she becomes entangled in a conspiracy that suggests thereâ€™s more to the mystery than meets the eye.    2\n",
       "                                                                                                                                                             ..\n",
       "A gifted young ballet dancer struggles to find her footing in an uptight ballet school that brings her and her family to a brand-new neighborhood.            1\n",
       "After stepping in to revitalize his family's hotel, a money-minded businessman clashes with the hotel's cheery, Christmas-loving decorator.                   1\n",
       "A soap opera producer, director and makeup artist each face wrenching family turmoil, from teen rebellion and marital infidelity to Alzheimer's.              1\n",
       "Laida and Miggy think they've found perfect happiness with each other, until their burgeoning careers force them into a long-distance relationship.           1\n",
       "A scrappy but poor boy worms his way into a tycoon's dysfunctional family, while facing his fear of music and the truth about his past.                       1\n",
       "Name: count, Length: 8775, dtype: int64"
      ]
     },
     "execution_count": 102,
     "metadata": {},
     "output_type": "execute_result"
    }
   ],
   "source": [
    "# value counts of description\n",
    "df[\"description\"].value_counts() "
   ]
  },
  {
   "cell_type": "code",
   "execution_count": 103,
   "id": "33f5b4d2",
   "metadata": {},
   "outputs": [
    {
     "data": {
      "text/plain": [
       "8775"
      ]
     },
     "execution_count": 103,
     "metadata": {},
     "output_type": "execute_result"
    }
   ],
   "source": [
    "# Unique count of description\n",
    "df[\"description\"].nunique() "
   ]
  },
  {
   "cell_type": "markdown",
   "id": "31f19887",
   "metadata": {},
   "source": [
    "#### 4. Visual Analysis - Univariate, Bivariate after pre-processing of the data\n",
    "\n",
    "Note: Pre-processing involves unnesting of the data in columns like Actor, Director, Country\n",
    "\n",
    "##### 4.1 For continuous variable(s): Distplot, countplot, histogram for univariate analysis\n",
    "\n",
    "##### 4.2 For categorical variable(s): Boxplot\n",
    "\n",
    "##### 4.3 For correlation: Heatmaps, Pairplots\n"
   ]
  },
  {
   "cell_type": "markdown",
   "id": "69966e47",
   "metadata": {},
   "source": []
  },
  {
   "cell_type": "markdown",
   "id": "4214dd7d",
   "metadata": {},
   "source": []
  },
  {
   "cell_type": "code",
   "execution_count": null,
   "id": "5f46ded3",
   "metadata": {},
   "outputs": [],
   "source": []
  },
  {
   "cell_type": "code",
   "execution_count": null,
   "id": "a3aa2718",
   "metadata": {},
   "outputs": [],
   "source": []
  }
 ],
 "metadata": {
  "kernelspec": {
   "display_name": "Python 3",
   "language": "python",
   "name": "python3"
  },
  "language_info": {
   "codemirror_mode": {
    "name": "ipython",
    "version": 3
   },
   "file_extension": ".py",
   "mimetype": "text/x-python",
   "name": "python",
   "nbconvert_exporter": "python",
   "pygments_lexer": "ipython3",
   "version": "3.13.3"
  }
 },
 "nbformat": 4,
 "nbformat_minor": 5
}
